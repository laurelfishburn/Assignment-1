{
 "cells": [
  {
   "cell_type": "markdown",
   "metadata": {},
   "source": [
    "Assignment 1"
   ]
  },
  {
   "cell_type": "markdown",
   "metadata": {},
   "source": [
    "Problem 2: Given a list:\n",
    "\n",
    "list_a = [3, 4, 6, 10, 39, 87, 12, 54]\n",
    "\n",
    "(a) Find the maximum, minimum, and summation number of the list.\n",
    "\n",
    "(b) Sort the list in ascending order\n",
    "\n",
    "(c) Write a for loop to print each element in list_a"
   ]
  },
  {
   "cell_type": "code",
   "execution_count": 2,
   "metadata": {},
   "outputs": [
    {
     "name": "stdout",
     "output_type": "stream",
     "text": [
      "the maximum is: 87\n",
      "the minimum is: 3\n",
      "the summation is: 214\n"
     ]
    }
   ],
   "source": [
    "#part a \n",
    "#written by Ashlyn Bodin\n",
    "\n",
    "list_a=[3,4,6,10,38,87,12,54]\n",
    "max_list=max(list_a)\n",
    "min_list=min(list_a)\n",
    "sum_list=sum(list_a)\n",
    "\n",
    "print(\"the maximum is:\", max_list)\n",
    "print(\"the minimum is:\", min_list)\n",
    "print(\"the summation is:\", sum_list)\n"
   ]
  },
  {
   "cell_type": "code",
   "execution_count": 3,
   "metadata": {},
   "outputs": [
    {
     "name": "stdout",
     "output_type": "stream",
     "text": [
      "sorted in ascending order: [3, 4, 6, 10, 12, 38, 54, 87]\n"
     ]
    }
   ],
   "source": [
    "#part b\n",
    "list_a.sort()\n",
    "print(\"sorted in ascending order:\", list_a)"
   ]
  },
  {
   "cell_type": "code",
   "execution_count": 4,
   "metadata": {},
   "outputs": [
    {
     "name": "stdout",
     "output_type": "stream",
     "text": [
      "3\n",
      "4\n",
      "6\n",
      "10\n",
      "12\n",
      "38\n",
      "54\n",
      "87\n"
     ]
    }
   ],
   "source": [
    "#part c\n",
    "for element in list_a:\n",
    "    print(element)"
   ]
  },
  {
   "cell_type": "code",
   "execution_count": null,
   "metadata": {},
   "outputs": [],
   "source": []
  }
 ],
 "metadata": {
  "kernelspec": {
   "display_name": "Assignment1",
   "language": "python",
   "name": "python3"
  },
  "language_info": {
   "codemirror_mode": {
    "name": "ipython",
    "version": 3
   },
   "file_extension": ".py",
   "mimetype": "text/x-python",
   "name": "python",
   "nbconvert_exporter": "python",
   "pygments_lexer": "ipython3",
   "version": "3.13.1"
  }
 },
 "nbformat": 4,
 "nbformat_minor": 2
}
