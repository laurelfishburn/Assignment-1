{
 "cells": [
  {
   "cell_type": "markdown",
   "metadata": {},
   "source": [
    "Assignment 1"
   ]
  },
  {
   "cell_type": "markdown",
   "metadata": {},
   "source": [
    "Problem 2: Given a list:\n",
    "\n",
    "list_a = [3, 4, 6, 10, 39, 87, 12, 54]\n",
    "\n",
    "(a) Find the maximum, minimum, and summation number of the list.\n",
    "\n",
    "(b) Sort the list in ascending order\n",
    "\n",
    "(c) Write a for loop to print each element in list_a"
   ]
  },
  {
   "cell_type": "code",
   "execution_count": 2,
   "metadata": {},
   "outputs": [
    {
     "name": "stdout",
     "output_type": "stream",
     "text": [
      "the maximum is: 87\n",
      "the minimum is: 3\n",
      "the summation is: 214\n"
     ]
    }
   ],
   "source": [
    "#part a\n",
    "\n",
    "list_a=[3,4,6,10,38,87,12,54]\n",
    "max_list=max(list_a)\n",
    "min_list=min(list_a)\n",
    "sum_list=sum(list_a)\n",
    "\n",
    "print(\"the maximum is:\", max_list)\n",
    "print(\"the minimum is:\", min_list)\n",
    "print(\"the summation is:\", sum_list)\n"
   ]
  },
  {
   "cell_type": "code",
   "execution_count": 3,
   "metadata": {},
   "outputs": [
    {
     "name": "stdout",
     "output_type": "stream",
     "text": [
      "sorted in ascending order: [3, 4, 6, 10, 12, 38, 54, 87]\n"
     ]
    }
   ],
   "source": [
    "#part b\n",
    "list_a.sort()\n",
    "print(\"sorted in ascending order:\", list_a)"
   ]
  },
  {
   "cell_type": "code",
   "execution_count": 4,
   "metadata": {},
   "outputs": [
    {
     "name": "stdout",
     "output_type": "stream",
     "text": [
      "3\n",
      "4\n",
      "6\n",
      "10\n",
      "12\n",
      "38\n",
      "54\n",
      "87\n"
     ]
    }
   ],
   "source": [
    "#part c\n",
    "for element in list_a:\n",
    "    print(element)"
   ]
  },
  {
   "cell_type": "markdown",
   "metadata": {},
   "source": [
    "Problem 3: \n",
    "A prime number is a whole number greater than 1 whose only factors are 1 and itself. A factor is a whole number that can be divided evenly into another number. \n",
    "\n",
    "(a) Based on the definition of prime number, define a function to determine whether an input integer is a prime number or not\n",
    "(b) Find all prime numbers below 100\n",
    "(c) Define a function to find all prime numbers below a custom-defined number, n\n",
    "(d) Call your defined function to find all prime numbers with n = 1000\n"
   ]
  },
  {
   "cell_type": "code",
   "execution_count": 5,
   "metadata": {},
   "outputs": [
    {
     "name": "stdout",
     "output_type": "stream",
     "text": [
      "prime numbers below 100: [2, 3, 5, 7, 11, 13, 17, 19, 23, 29, 31, 37, 41, 43, 47, 53, 59, 61, 67, 71, 73, 79, 83, 89, 97]\n"
     ]
    }
   ],
   "source": [
    "#part a\n",
    "def is_prime(num):\n",
    "    \"\"\"check if a number is prime.\"\"\"\n",
    "    if num < 2:\n",
    "        return False\n",
    "    for i in range(2, int(num ** 0.5) + 1):\n",
    "        if num % i == 0:\n",
    "            return False\n",
    "    return True\n",
    "\n",
    "#part c\n",
    "def primes_below_n(n):\n",
    "    \"\"\"Find all prime numbers below a given number n.\"\"\"\n",
    "    return [num for num in range(2,n) if is_prime(num)]\n",
    "\n",
    "#part b\n",
    "primes_below_100 = primes_below_n(100)\n",
    "print(\"prime numbers below 100:\", primes_below_100)\n"
   ]
  },
  {
   "cell_type": "code",
   "execution_count": 6,
   "metadata": {},
   "outputs": [
    {
     "name": "stdout",
     "output_type": "stream",
     "text": [
      "prime numbers below 1000: [2, 3, 5, 7, 11, 13, 17, 19, 23, 29, 31, 37, 41, 43, 47, 53, 59, 61, 67, 71, 73, 79, 83, 89, 97, 101, 103, 107, 109, 113, 127, 131, 137, 139, 149, 151, 157, 163, 167, 173, 179, 181, 191, 193, 197, 199, 211, 223, 227, 229, 233, 239, 241, 251, 257, 263, 269, 271, 277, 281, 283, 293, 307, 311, 313, 317, 331, 337, 347, 349, 353, 359, 367, 373, 379, 383, 389, 397, 401, 409, 419, 421, 431, 433, 439, 443, 449, 457, 461, 463, 467, 479, 487, 491, 499, 503, 509, 521, 523, 541, 547, 557, 563, 569, 571, 577, 587, 593, 599, 601, 607, 613, 617, 619, 631, 641, 643, 647, 653, 659, 661, 673, 677, 683, 691, 701, 709, 719, 727, 733, 739, 743, 751, 757, 761, 769, 773, 787, 797, 809, 811, 821, 823, 827, 829, 839, 853, 857, 859, 863, 877, 881, 883, 887, 907, 911, 919, 929, 937, 941, 947, 953, 967, 971, 977, 983, 991, 997]\n"
     ]
    }
   ],
   "source": [
    "#part d \n",
    "primes_below_1000 = primes_below_n(1000)\n",
    "print(\"prime numbers below 1000:\", primes_below_1000)\n"
   ]
  },
  {
   "cell_type": "markdown",
   "metadata": {},
   "source": [
    "Problem 4: \n",
    "Define a function to output a 3D (nx3x3) numpy array, where n is the input value (argument) of the function to control the length of the array, and data is the input value that determines what kind of data it contains (b) Call the function for n=10 and populate the array with zeroes (c) Call the function for n=5 and populate the array with random numbers between 1 and 100"
   ]
  },
  {
   "cell_type": "code",
   "execution_count": 1,
   "metadata": {},
   "outputs": [
    {
     "data": {
      "text/plain": [
       "array([[[0., 0., 0.],\n",
       "        [0., 0., 0.],\n",
       "        [0., 0., 0.]],\n",
       "\n",
       "       [[0., 0., 0.],\n",
       "        [0., 0., 0.],\n",
       "        [0., 0., 0.]],\n",
       "\n",
       "       [[0., 0., 0.],\n",
       "        [0., 0., 0.],\n",
       "        [0., 0., 0.]],\n",
       "\n",
       "       [[0., 0., 0.],\n",
       "        [0., 0., 0.],\n",
       "        [0., 0., 0.]],\n",
       "\n",
       "       [[0., 0., 0.],\n",
       "        [0., 0., 0.],\n",
       "        [0., 0., 0.]],\n",
       "\n",
       "       [[0., 0., 0.],\n",
       "        [0., 0., 0.],\n",
       "        [0., 0., 0.]],\n",
       "\n",
       "       [[0., 0., 0.],\n",
       "        [0., 0., 0.],\n",
       "        [0., 0., 0.]],\n",
       "\n",
       "       [[0., 0., 0.],\n",
       "        [0., 0., 0.],\n",
       "        [0., 0., 0.]],\n",
       "\n",
       "       [[0., 0., 0.],\n",
       "        [0., 0., 0.],\n",
       "        [0., 0., 0.]],\n",
       "\n",
       "       [[0., 0., 0.],\n",
       "        [0., 0., 0.],\n",
       "        [0., 0., 0.]]])"
      ]
     },
     "execution_count": 1,
     "metadata": {},
     "output_type": "execute_result"
    }
   ],
   "source": [
    "import numpy as np\n",
    "\n",
    "\n",
    "def create_3D_array(n,data):\n",
    "    if data == \"zeros\":\n",
    "        return np.zeros((n,3,3)) \n",
    "    elif data == \"random\":\n",
    "        return np.random.randint(1,101,size=(n,3,3)) \n",
    "    else:\n",
    "        raise ValueError(\"Data type not recognized. Use 'zeros' or 'random'.\")\n",
    "# (b) n=10\n",
    "array_one = create_3D_array(10,\"zeros\")\n",
    "array_one"
   ]
  },
  {
   "cell_type": "code",
   "execution_count": 2,
   "metadata": {},
   "outputs": [
    {
     "data": {
      "text/plain": [
       "array([[[13, 12, 82],\n",
       "        [28, 11, 27],\n",
       "        [94, 73, 99]],\n",
       "\n",
       "       [[15, 13, 72],\n",
       "        [20, 76, 86],\n",
       "        [18, 57, 97]],\n",
       "\n",
       "       [[77, 13, 63],\n",
       "        [56, 49, 59],\n",
       "        [23, 12, 45]],\n",
       "\n",
       "       [[68, 54,  6],\n",
       "        [14, 64, 24],\n",
       "        [72,  2, 50]],\n",
       "\n",
       "       [[ 2, 36, 86],\n",
       "        [36,  2, 55],\n",
       "        [48, 27, 31]]], dtype=int32)"
      ]
     },
     "execution_count": 2,
     "metadata": {},
     "output_type": "execute_result"
    }
   ],
   "source": [
    "# (c) n=5\n",
    "array_two = create_3D_array(5, \"random\")\n",
    "array_two"
   ]
  },
  {
   "cell_type": "markdown",
   "metadata": {},
   "source": [
    "Problem 5: Solve following set of equations using linear algebra and numpy.\n",
    "\n",
    "3a + 4b -5c = 10\n",
    "\n",
    "5b + c = 8\n",
    "\n",
    "a + 3b + 6c = -5"
   ]
  },
  {
   "cell_type": "code",
   "execution_count": 3,
   "metadata": {},
   "outputs": [
    {
     "name": "stdout",
     "output_type": "stream",
     "text": [
      "[[-1.7]\n",
      " [ 1.9]\n",
      " [-1.5]]\n"
     ]
    }
   ],
   "source": [
    "#written by Ashlyn Bodin\n",
    "\n",
    "import numpy as np \n",
    "\n",
    "A = np.matrix([\n",
    "    [3, 4, -5],\n",
    "    [0, 5, 1],\n",
    "    [1, 3, 6]\n",
    "    ])\n",
    "B = np.matrix([\n",
    "    [10],\n",
    "    [8],\n",
    "    [-5]\n",
    "    ])\n",
    "X = np.dot(np.linalg.inv(A),B)\n",
    "print(X)"
   ]
  },
  {
   "cell_type": "markdown",
   "metadata": {},
   "source": [
    "Problem 6: \n",
    "Given an expression:\n",
    "\n",
    "y = 0.1x^3-x^2+5\n",
    "\n",
    "(a) Plot the function in the range of x from -5 to 5\n",
    "(b) Find the maximum and minimum value of this function and add them with points and labels on the same figure\n",
    "\n"
   ]
  },
  {
   "cell_type": "code",
   "execution_count": 6,
   "metadata": {},
   "outputs": [
    {
     "data": {
      "image/png": "[encoded data removed]",
      "text/plain": [
       "<Figure size 800x600 with 1 Axes>"
      ]
     },
     "metadata": {},
     "output_type": "display_data"
    }
   ],
   "source": [
    "#part a\n",
    "import numpy as np\n",
    "import matplotlib.pyplot as plt\n",
    "from scipy.optimize import minimize_scalar\n",
    "\n",
    "def func(x):\n",
    "    return 0.1 * x**3 - x**2 + 5\n",
    "\n",
    "x_values = np.linspace(-5,5,400)\n",
    "y_values = func(x_values)\n",
    "\n",
    "min_result = minimize_scalar(func, bounds=(-5,5), method='bounded')\n",
    "max_result = minimize_scalar(lambda x: -func(x), bounds=(-5,5), method='bounded')\n",
    "\n",
    "min_x, min_y = min_result.x, func(min_result.x)\n",
    "max_x, max_y = max_result.x, func(max_result.x)\n",
    "\n",
    "plt.figure(figsize=(8,6))\n",
    "plt.plot(x_values, y_values, label='y = 0.1x^3 - x^2 + 5', color='blue')\n",
    "plt.scatter([min_x, max_x], [min_y, max_y], color='red', zorder=3)\n",
    "plt.text(min_x, min_y, f'Min ({min_x:.2f}, {min_y:.2f})', fontsize=10, verticalalignment='bottom')\n",
    "plt.text(max_x, max_y, f'Max ({max_x:.2f}, {max_y:.2f})', fontsize=10, verticalalignment='bottom')\n",
    "plt.axhline(0, color='black', linewidth=0.5)\n",
    "plt.axvline(0, color='black', linewidth=0.5)\n",
    "plt.grid()\n",
    "plt.legend()\n",
    "plt.title('Plot of y = 0.1x^3 - x^2 + 5')\n",
    "plt.xlabel('x')\n",
    "plt.ylabel('y')\n",
    "plt.show()"
   ]
  }
 ],
 "metadata": {
  "kernelspec": {
   "display_name": "APC_ENV",
   "language": "python",
   "name": "python3"
  },
  "language_info": {
   "codemirror_mode": {
    "name": "ipython",
    "version": 3
   },
   "file_extension": ".py",
   "mimetype": "text/x-python",
   "name": "python",
   "nbconvert_exporter": "python",
   "pygments_lexer": "ipython3",
   "version": "3.13.1"
  }
 },
 "nbformat": 4,
 "nbformat_minor": 2
}
